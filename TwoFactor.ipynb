{
 "cells": [
  {
   "cell_type": "code",
   "execution_count": 1,
   "metadata": {},
   "outputs": [],
   "source": [
    "import time;\n",
    "import pyotp;"
   ]
  },
  {
   "cell_type": "code",
   "execution_count": 2,
   "metadata": {},
   "outputs": [
    {
     "name": "stdout",
     "output_type": "stream",
     "text": [
      "TwoFactorSuperSecretKey\n"
     ]
    }
   ],
   "source": [
    "key = \"TwoFactorSuperSecretKey\"\n",
    "print(key)"
   ]
  },
  {
   "cell_type": "code",
   "execution_count": 4,
   "metadata": {},
   "outputs": [
    {
     "name": "stdout",
     "output_type": "stream",
     "text": [
      "926933\n"
     ]
    }
   ],
   "source": [
    "totp = pyotp.TOTP(key)\n",
    "print(totp.now())"
   ]
  },
  {
   "cell_type": "code",
   "execution_count": 5,
   "metadata": {},
   "outputs": [
    {
     "name": "stdout",
     "output_type": "stream",
     "text": [
      "245261\n"
     ]
    }
   ],
   "source": [
    "time.sleep(30)\n",
    "print(totp.now())"
   ]
  },
  {
   "cell_type": "code",
   "execution_count": 6,
   "metadata": {},
   "outputs": [
    {
     "name": "stdout",
     "output_type": "stream",
     "text": [
      "True\n"
     ]
    }
   ],
   "source": [
    "input_code = input(\"Enter 2FA Code:\")\n",
    "print(totp.verify(input_code))"
   ]
  },
  {
   "cell_type": "code",
   "execution_count": 7,
   "metadata": {},
   "outputs": [
    {
     "name": "stdout",
     "output_type": "stream",
     "text": [
      "621725\n",
      "542795\n",
      "593381\n",
      "938077\n",
      "802835\n"
     ]
    }
   ],
   "source": [
    "counter = 0\n",
    "hotp = pyotp.HOTP(key)\n",
    "print(hotp.at(0))\n",
    "print(hotp.at(1))\n",
    "print(hotp.at(2))\n",
    "print(hotp.at(3))\n",
    "print(hotp.at(4))"
   ]
  },
  {
   "cell_type": "code",
   "execution_count": 8,
   "metadata": {},
   "outputs": [
    {
     "name": "stdout",
     "output_type": "stream",
     "text": [
      "True\n",
      "False\n",
      "False\n",
      "False\n",
      "False\n"
     ]
    }
   ],
   "source": [
    "for _ in range(5):\n",
    "   print(hotp.verify(input(\"Enter Code:\"), counter))\n",
    "   counter += 1"
   ]
  },
  {
   "cell_type": "code",
   "execution_count": 13,
   "metadata": {},
   "outputs": [
    {
     "name": "stdout",
     "output_type": "stream",
     "text": [
      "Requirement already satisfied: qrcode in c:\\users\\tsvet\\anaconda3\\lib\\site-packages (7.4.2)\n",
      "Requirement already satisfied: typing-extensions in c:\\users\\tsvet\\anaconda3\\lib\\site-packages (from qrcode) (4.7.1)\n",
      "Requirement already satisfied: pypng in c:\\users\\tsvet\\anaconda3\\lib\\site-packages (from qrcode) (0.20220715.0)\n",
      "Requirement already satisfied: colorama in c:\\users\\tsvet\\anaconda3\\lib\\site-packages (from qrcode) (0.4.6)\n",
      "Note: you may need to restart the kernel to use updated packages.\n"
     ]
    }
   ],
   "source": [
    " pip install qrcode"
   ]
  },
  {
   "cell_type": "code",
   "execution_count": 3,
   "metadata": {},
   "outputs": [
    {
     "name": "stdout",
     "output_type": "stream",
     "text": [
      "otpauth://totp/My%20Two%20Factor%20App:MikeSmith1234?secret=TwoFactorSuperSecretKey&issuer=My%20Two%20Factor%20App\n"
     ]
    }
   ],
   "source": [
    "uri = pyotp.totp.TOTP(key).provisioning_uri(name=\"MikeSmith1234\", issuer_name=\"My Two Factor App\")\n",
    "print(uri)"
   ]
  },
  {
   "cell_type": "code",
   "execution_count": 4,
   "metadata": {},
   "outputs": [],
   "source": [
    "import qrcode;\n",
    "qrcode.make(uri).save(\"totpqr.png\")"
   ]
  },
  {
   "cell_type": "code",
   "execution_count": null,
   "metadata": {},
   "outputs": [],
   "source": [
    "totp = pyotp.TOTP(key)\n",
    "\n",
    "while True: \n",
    "  print(totp.verify(input(\"Enter code:\")))"
   ]
  }
 ],
 "metadata": {
  "kernelspec": {
   "display_name": "base",
   "language": "python",
   "name": "python3"
  },
  "language_info": {
   "codemirror_mode": {
    "name": "ipython",
    "version": 3
   },
   "file_extension": ".py",
   "mimetype": "text/x-python",
   "name": "python",
   "nbconvert_exporter": "python",
   "pygments_lexer": "ipython3",
   "version": "3.11.5"
  }
 },
 "nbformat": 4,
 "nbformat_minor": 2
}
